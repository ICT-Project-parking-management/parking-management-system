{
  "nbformat": 4,
  "nbformat_minor": 0,
  "metadata": {
    "colab": {
      "name": "residents+popular.ipynb",
      "provenance": []
    },
    "kernelspec": {
      "name": "python3",
      "display_name": "Python 3"
    },
    "language_info": {
      "name": "python"
    }
  },
  "cells": [
    {
      "cell_type": "markdown",
      "metadata": {
        "id": "ywu1NYsMVUdW"
      },
      "source": [
        "# To load dummy data\n",
        "- 카톡방에 올린 csv 파일 확인"
      ]
    },
    {
      "cell_type": "code",
      "metadata": {
        "colab": {
          "base_uri": "https://localhost:8080/",
          "height": 206
        },
        "id": "zHrUlK8ZCfum",
        "outputId": "336eb154-d9a0-4422-fb13-b810532c9475"
      },
      "source": [
        "import pandas as pd\n",
        "data = pd.read_csv('parking_6m_edit.csv')\n",
        "\n",
        "locations = list(data.columns)[1:]\n",
        "cols = ['ts'] + locations\n",
        "data.columns = cols\n",
        "data.head()"
      ],
      "execution_count": null,
      "outputs": [
        {
          "output_type": "execute_result",
          "data": {
            "text/html": [
              "<div>\n",
              "<style scoped>\n",
              "    .dataframe tbody tr th:only-of-type {\n",
              "        vertical-align: middle;\n",
              "    }\n",
              "\n",
              "    .dataframe tbody tr th {\n",
              "        vertical-align: top;\n",
              "    }\n",
              "\n",
              "    .dataframe thead th {\n",
              "        text-align: right;\n",
              "    }\n",
              "</style>\n",
              "<table border=\"1\" class=\"dataframe\">\n",
              "  <thead>\n",
              "    <tr style=\"text-align: right;\">\n",
              "      <th></th>\n",
              "      <th>ts</th>\n",
              "      <th>A1</th>\n",
              "      <th>A2</th>\n",
              "      <th>A3</th>\n",
              "      <th>B1</th>\n",
              "      <th>B2</th>\n",
              "      <th>B3</th>\n",
              "    </tr>\n",
              "  </thead>\n",
              "  <tbody>\n",
              "    <tr>\n",
              "      <th>0</th>\n",
              "      <td>2021-01-01 00:00:00</td>\n",
              "      <td>98소4353</td>\n",
              "      <td>09고9301</td>\n",
              "      <td>05라0978</td>\n",
              "      <td>99다9169</td>\n",
              "      <td>NaN</td>\n",
              "      <td>14허9325</td>\n",
              "    </tr>\n",
              "    <tr>\n",
              "      <th>1</th>\n",
              "      <td>2021-01-01 00:30:00</td>\n",
              "      <td>98소4353</td>\n",
              "      <td>09고9301</td>\n",
              "      <td>05라0978</td>\n",
              "      <td>99다9169</td>\n",
              "      <td>10두5133</td>\n",
              "      <td>14허9325</td>\n",
              "    </tr>\n",
              "    <tr>\n",
              "      <th>2</th>\n",
              "      <td>2021-01-01 01:00:00</td>\n",
              "      <td>98소4353</td>\n",
              "      <td>59어1034</td>\n",
              "      <td>05라0978</td>\n",
              "      <td>99다9169</td>\n",
              "      <td>NaN</td>\n",
              "      <td>14허9325</td>\n",
              "    </tr>\n",
              "    <tr>\n",
              "      <th>3</th>\n",
              "      <td>2021-01-01 01:30:00</td>\n",
              "      <td>98소4353</td>\n",
              "      <td>59어1034</td>\n",
              "      <td>NaN</td>\n",
              "      <td>99다9169</td>\n",
              "      <td>05라0978</td>\n",
              "      <td>14허9325</td>\n",
              "    </tr>\n",
              "    <tr>\n",
              "      <th>4</th>\n",
              "      <td>2021-01-01 02:00:00</td>\n",
              "      <td>98소4353</td>\n",
              "      <td>23모3098</td>\n",
              "      <td>37로0265</td>\n",
              "      <td>99다9169</td>\n",
              "      <td>05라0978</td>\n",
              "      <td>14허9325</td>\n",
              "    </tr>\n",
              "  </tbody>\n",
              "</table>\n",
              "</div>"
            ],
            "text/plain": [
              "                    ts       A1       A2       A3       B1       B2       B3\n",
              "0  2021-01-01 00:00:00  98소4353  09고9301  05라0978  99다9169      NaN  14허9325\n",
              "1  2021-01-01 00:30:00  98소4353  09고9301  05라0978  99다9169  10두5133  14허9325\n",
              "2  2021-01-01 01:00:00  98소4353  59어1034  05라0978  99다9169      NaN  14허9325\n",
              "3  2021-01-01 01:30:00  98소4353  59어1034      NaN  99다9169  05라0978  14허9325\n",
              "4  2021-01-01 02:00:00  98소4353  23모3098  37로0265  99다9169  05라0978  14허9325"
            ]
          },
          "metadata": {},
          "execution_count": 1
        }
      ]
    },
    {
      "cell_type": "markdown",
      "metadata": {
        "id": "oYPC8p2DVbUk"
      },
      "source": [
        "# Processing duplicated plate number "
      ]
    },
    {
      "cell_type": "code",
      "metadata": {
        "id": "HyNwNNs1CuDr"
      },
      "source": [
        "car_list = []\n",
        "for location in locations:\n",
        "  car_list += list(data[location].dropna().unique())\n",
        "\n",
        "car_set = set(car_list)\n",
        "car_list = list(car_set)"
      ],
      "execution_count": null,
      "outputs": []
    },
    {
      "cell_type": "markdown",
      "metadata": {
        "id": "SrEH83-fVkKf"
      },
      "source": [
        "## Total plate number"
      ]
    },
    {
      "cell_type": "code",
      "metadata": {
        "colab": {
          "base_uri": "https://localhost:8080/"
        },
        "id": "3s6GjqNHEtDx",
        "outputId": "588d3a2c-f4e8-4cb3-95aa-56875ea973a7"
      },
      "source": [
        "car_list"
      ],
      "execution_count": null,
      "outputs": [
        {
          "output_type": "execute_result",
          "data": {
            "text/plain": [
              "['18로5146',\n",
              " '16조6670',\n",
              " '37로0265',\n",
              " '12버6916',\n",
              " '03마0518',\n",
              " '82로4935',\n",
              " '42조1354',\n",
              " '46러4751',\n",
              " '09고9301',\n",
              " '07너1838',\n",
              " '59어1034',\n",
              " '91노6193',\n",
              " '87더3315',\n",
              " '10두5133',\n",
              " '38어4657',\n",
              " '05라0978',\n",
              " '73마7810',\n",
              " '80거3267',\n",
              " '69수8480',\n",
              " '23모3098',\n",
              " '15조9407',\n",
              " '64수4687',\n",
              " '91거7182',\n",
              " '82라8121',\n",
              " '28하0957',\n",
              " '27호4980',\n",
              " '27버4896',\n",
              " '34주3829',\n",
              " '38나8386',\n",
              " '99다9169',\n",
              " '97노7631',\n",
              " '98소4353',\n",
              " '38부2624',\n",
              " '84너2411',\n",
              " '13너6475',\n",
              " '81누1849',\n",
              " '28노2764',\n",
              " '14허9325',\n",
              " '88도9696',\n",
              " '27가4828',\n",
              " '76수2423',\n",
              " '83소0305',\n",
              " '64마3953',\n",
              " '10로3321',\n",
              " '81무0013',\n",
              " '42저5116',\n",
              " '73두0260',\n",
              " '25조3419',\n",
              " '53러8710',\n",
              " '01구4303']"
            ]
          },
          "metadata": {},
          "execution_count": 3
        }
      ]
    },
    {
      "cell_type": "markdown",
      "metadata": {
        "id": "UhHFbJMSVomn"
      },
      "source": [
        "## Residents plate number"
      ]
    },
    {
      "cell_type": "code",
      "metadata": {
        "id": "grpqeY9bE7vs"
      },
      "source": [
        "residents = ['38어4657',\n",
        " '38부2624',\n",
        " '42저5116',\n",
        " '27호4980',\n",
        " '07너1838',\n",
        " '28노2764',\n",
        " '37로0265',\n",
        " '05라0978',\n",
        " '87더3315',\n",
        " '91노6193',\n",
        " '46러4751',\n",
        " '34주3829',\n",
        " '91거7182',\n",
        " '73마7810',\n",
        " '82라8121',\n",
        " '80거3267',\n",
        " '28하0957',\n",
        " '69수8480',\n",
        " '64수4687',\n",
        " '14허9325',\n",
        " '15조9407',\n",
        " '97노7631',\n",
        " '03마0518', \n",
        " '18로5146',\n",
        " '12버6916',\n",
        " '10로3321',\n",
        " '76수2423',\n",
        " '98소4353',\n",
        " '64마3953',\n",
        " '88도9696',\n",
        " '83소0305',\n",
        " '27버4896',\n",
        " '13너6475',\n",
        " '38나8386',\n",
        " '42조1354',\n",
        " '27가4828',\n",
        " '01구4303',\n",
        " '59어1034',\n",
        " '81누1849',\n",
        " '16조6670']"
      ],
      "execution_count": null,
      "outputs": []
    },
    {
      "cell_type": "code",
      "metadata": {
        "colab": {
          "base_uri": "https://localhost:8080/"
        },
        "id": "c8DOnVIYFJZa",
        "outputId": "020fd609-78cc-4136-b469-b118ad3f7d09"
      },
      "source": [
        "len(residents)"
      ],
      "execution_count": null,
      "outputs": [
        {
          "output_type": "execute_result",
          "data": {
            "text/plain": [
              "40"
            ]
          },
          "metadata": {},
          "execution_count": 5
        }
      ]
    },
    {
      "cell_type": "markdown",
      "metadata": {
        "id": "hB0cNAsOVscn"
      },
      "source": [
        "# Counting accumulation of parking data by user and section"
      ]
    },
    {
      "cell_type": "code",
      "metadata": {
        "colab": {
          "base_uri": "https://localhost:8080/",
          "height": 206
        },
        "id": "ZJpr9bcMHMSK",
        "outputId": "5c4d3e74-3aa6-42db-cceb-769a9d73e83c"
      },
      "source": [
        "import pandas as pd\n",
        "from pandas import DataFrame\n",
        "\n",
        "df = DataFrame(columns = locations, index=residents)\n",
        "df.fillna(0, inplace=True)\n",
        "df.head()"
      ],
      "execution_count": null,
      "outputs": [
        {
          "output_type": "execute_result",
          "data": {
            "text/html": [
              "<div>\n",
              "<style scoped>\n",
              "    .dataframe tbody tr th:only-of-type {\n",
              "        vertical-align: middle;\n",
              "    }\n",
              "\n",
              "    .dataframe tbody tr th {\n",
              "        vertical-align: top;\n",
              "    }\n",
              "\n",
              "    .dataframe thead th {\n",
              "        text-align: right;\n",
              "    }\n",
              "</style>\n",
              "<table border=\"1\" class=\"dataframe\">\n",
              "  <thead>\n",
              "    <tr style=\"text-align: right;\">\n",
              "      <th></th>\n",
              "      <th>A1</th>\n",
              "      <th>A2</th>\n",
              "      <th>A3</th>\n",
              "      <th>B1</th>\n",
              "      <th>B2</th>\n",
              "      <th>B3</th>\n",
              "    </tr>\n",
              "  </thead>\n",
              "  <tbody>\n",
              "    <tr>\n",
              "      <th>38어4657</th>\n",
              "      <td>0</td>\n",
              "      <td>0</td>\n",
              "      <td>0</td>\n",
              "      <td>0</td>\n",
              "      <td>0</td>\n",
              "      <td>0</td>\n",
              "    </tr>\n",
              "    <tr>\n",
              "      <th>38부2624</th>\n",
              "      <td>0</td>\n",
              "      <td>0</td>\n",
              "      <td>0</td>\n",
              "      <td>0</td>\n",
              "      <td>0</td>\n",
              "      <td>0</td>\n",
              "    </tr>\n",
              "    <tr>\n",
              "      <th>42저5116</th>\n",
              "      <td>0</td>\n",
              "      <td>0</td>\n",
              "      <td>0</td>\n",
              "      <td>0</td>\n",
              "      <td>0</td>\n",
              "      <td>0</td>\n",
              "    </tr>\n",
              "    <tr>\n",
              "      <th>27호4980</th>\n",
              "      <td>0</td>\n",
              "      <td>0</td>\n",
              "      <td>0</td>\n",
              "      <td>0</td>\n",
              "      <td>0</td>\n",
              "      <td>0</td>\n",
              "    </tr>\n",
              "    <tr>\n",
              "      <th>07너1838</th>\n",
              "      <td>0</td>\n",
              "      <td>0</td>\n",
              "      <td>0</td>\n",
              "      <td>0</td>\n",
              "      <td>0</td>\n",
              "      <td>0</td>\n",
              "    </tr>\n",
              "  </tbody>\n",
              "</table>\n",
              "</div>"
            ],
            "text/plain": [
              "         A1  A2  A3  B1  B2  B3\n",
              "38어4657   0   0   0   0   0   0\n",
              "38부2624   0   0   0   0   0   0\n",
              "42저5116   0   0   0   0   0   0\n",
              "27호4980   0   0   0   0   0   0\n",
              "07너1838   0   0   0   0   0   0"
            ]
          },
          "metadata": {},
          "execution_count": 6
        }
      ]
    },
    {
      "cell_type": "code",
      "metadata": {
        "colab": {
          "base_uri": "https://localhost:8080/",
          "height": 206
        },
        "id": "Q4bnCeyEH0sX",
        "outputId": "f02a9793-9c42-40ff-f186-5ecb7ddd1c23"
      },
      "source": [
        "for location in locations:\n",
        "  temp_dict = data[location].value_counts().to_dict()\n",
        "  for key in temp_dict.keys():\n",
        "    if key in residents:\n",
        "      df.loc[key, location] = temp_dict[key]\n",
        "  \n",
        "df.head()"
      ],
      "execution_count": null,
      "outputs": [
        {
          "output_type": "execute_result",
          "data": {
            "text/html": [
              "<div>\n",
              "<style scoped>\n",
              "    .dataframe tbody tr th:only-of-type {\n",
              "        vertical-align: middle;\n",
              "    }\n",
              "\n",
              "    .dataframe tbody tr th {\n",
              "        vertical-align: top;\n",
              "    }\n",
              "\n",
              "    .dataframe thead th {\n",
              "        text-align: right;\n",
              "    }\n",
              "</style>\n",
              "<table border=\"1\" class=\"dataframe\">\n",
              "  <thead>\n",
              "    <tr style=\"text-align: right;\">\n",
              "      <th></th>\n",
              "      <th>A1</th>\n",
              "      <th>A2</th>\n",
              "      <th>A3</th>\n",
              "      <th>B1</th>\n",
              "      <th>B2</th>\n",
              "      <th>B3</th>\n",
              "    </tr>\n",
              "  </thead>\n",
              "  <tbody>\n",
              "    <tr>\n",
              "      <th>38어4657</th>\n",
              "      <td>103</td>\n",
              "      <td>104</td>\n",
              "      <td>67</td>\n",
              "      <td>75</td>\n",
              "      <td>64</td>\n",
              "      <td>81</td>\n",
              "    </tr>\n",
              "    <tr>\n",
              "      <th>38부2624</th>\n",
              "      <td>94</td>\n",
              "      <td>88</td>\n",
              "      <td>74</td>\n",
              "      <td>105</td>\n",
              "      <td>74</td>\n",
              "      <td>69</td>\n",
              "    </tr>\n",
              "    <tr>\n",
              "      <th>42저5116</th>\n",
              "      <td>108</td>\n",
              "      <td>87</td>\n",
              "      <td>84</td>\n",
              "      <td>91</td>\n",
              "      <td>81</td>\n",
              "      <td>117</td>\n",
              "    </tr>\n",
              "    <tr>\n",
              "      <th>27호4980</th>\n",
              "      <td>92</td>\n",
              "      <td>73</td>\n",
              "      <td>110</td>\n",
              "      <td>102</td>\n",
              "      <td>116</td>\n",
              "      <td>112</td>\n",
              "    </tr>\n",
              "    <tr>\n",
              "      <th>07너1838</th>\n",
              "      <td>60</td>\n",
              "      <td>137</td>\n",
              "      <td>83</td>\n",
              "      <td>93</td>\n",
              "      <td>68</td>\n",
              "      <td>91</td>\n",
              "    </tr>\n",
              "  </tbody>\n",
              "</table>\n",
              "</div>"
            ],
            "text/plain": [
              "          A1   A2   A3   B1   B2   B3\n",
              "38어4657  103  104   67   75   64   81\n",
              "38부2624   94   88   74  105   74   69\n",
              "42저5116  108   87   84   91   81  117\n",
              "27호4980   92   73  110  102  116  112\n",
              "07너1838   60  137   83   93   68   91"
            ]
          },
          "metadata": {},
          "execution_count": 7
        }
      ]
    },
    {
      "cell_type": "markdown",
      "metadata": {
        "id": "KLjU22xSWii_"
      },
      "source": [
        "## The largest zone for residents"
      ]
    },
    {
      "cell_type": "code",
      "metadata": {
        "colab": {
          "base_uri": "https://localhost:8080/",
          "height": 206
        },
        "id": "ikLAU0rwSW3z",
        "outputId": "3e51f079-70d5-47eb-a156-a4139461e345"
      },
      "source": [
        "cols = ['1st', '2nd', '3rd']\n",
        "\n",
        "popular = df.apply(lambda x: pd.Series(x.nlargest(3).index, index=cols), axis=1)\n",
        "popular.head()"
      ],
      "execution_count": null,
      "outputs": [
        {
          "output_type": "execute_result",
          "data": {
            "text/html": [
              "<div>\n",
              "<style scoped>\n",
              "    .dataframe tbody tr th:only-of-type {\n",
              "        vertical-align: middle;\n",
              "    }\n",
              "\n",
              "    .dataframe tbody tr th {\n",
              "        vertical-align: top;\n",
              "    }\n",
              "\n",
              "    .dataframe thead th {\n",
              "        text-align: right;\n",
              "    }\n",
              "</style>\n",
              "<table border=\"1\" class=\"dataframe\">\n",
              "  <thead>\n",
              "    <tr style=\"text-align: right;\">\n",
              "      <th></th>\n",
              "      <th>1st</th>\n",
              "      <th>2nd</th>\n",
              "      <th>3rd</th>\n",
              "    </tr>\n",
              "  </thead>\n",
              "  <tbody>\n",
              "    <tr>\n",
              "      <th>38어4657</th>\n",
              "      <td>A2</td>\n",
              "      <td>A1</td>\n",
              "      <td>B3</td>\n",
              "    </tr>\n",
              "    <tr>\n",
              "      <th>38부2624</th>\n",
              "      <td>B1</td>\n",
              "      <td>A1</td>\n",
              "      <td>A2</td>\n",
              "    </tr>\n",
              "    <tr>\n",
              "      <th>42저5116</th>\n",
              "      <td>B3</td>\n",
              "      <td>A1</td>\n",
              "      <td>B1</td>\n",
              "    </tr>\n",
              "    <tr>\n",
              "      <th>27호4980</th>\n",
              "      <td>B2</td>\n",
              "      <td>B3</td>\n",
              "      <td>A3</td>\n",
              "    </tr>\n",
              "    <tr>\n",
              "      <th>07너1838</th>\n",
              "      <td>A2</td>\n",
              "      <td>B1</td>\n",
              "      <td>B3</td>\n",
              "    </tr>\n",
              "  </tbody>\n",
              "</table>\n",
              "</div>"
            ],
            "text/plain": [
              "        1st 2nd 3rd\n",
              "38어4657  A2  A1  B3\n",
              "38부2624  B1  A1  A2\n",
              "42저5116  B3  A1  B1\n",
              "27호4980  B2  B3  A3\n",
              "07너1838  A2  B1  B3"
            ]
          },
          "metadata": {},
          "execution_count": 8
        }
      ]
    }
  ]
}